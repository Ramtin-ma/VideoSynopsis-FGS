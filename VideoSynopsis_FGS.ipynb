{
  "nbformat": 4,
  "nbformat_minor": 0,
  "metadata": {
    "colab": {
      "provenance": [],
      "gpuType": "T4"
    },
    "kernelspec": {
      "name": "python3",
      "display_name": "Python 3"
    },
    "language_info": {
      "name": "python"
    },
    "accelerator": "GPU"
  },
  "cells": [
    {
      "cell_type": "code",
      "execution_count": null,
      "metadata": {
        "id": "C5t2T889yaT0"
      },
      "outputs": [],
      "source": [
        "# Install lap, required for SFSORT\n",
        "!pip install lap\n",
        "\n",
        "#Install ultralytics to access the object detector\n",
        "!pip install ultralytics"
      ]
    },
    {
      "cell_type": "code",
      "source": [
        "!git clone https://github.com/Ramtin-ma/VideoSynopsis-FGS.git"
      ],
      "metadata": {
        "colab": {
          "base_uri": "https://localhost:8080/"
        },
        "id": "1xCag1-XywQd",
        "outputId": "8c2a137e-e8c9-4f3d-b4d0-6664da46e730"
      },
      "execution_count": 2,
      "outputs": [
        {
          "output_type": "stream",
          "name": "stdout",
          "text": [
            "Cloning into 'VideoSynopsis-FGS'...\n",
            "remote: Enumerating objects: 106, done.\u001b[K\n",
            "remote: Counting objects: 100% (106/106), done.\u001b[K\n",
            "remote: Compressing objects: 100% (103/103), done.\u001b[K\n",
            "remote: Total 106 (delta 58), reused 0 (delta 0), pack-reused 0 (from 0)\u001b[K\n",
            "Receiving objects: 100% (106/106), 16.75 MiB | 11.94 MiB/s, done.\n",
            "Resolving deltas: 100% (58/58), done.\n"
          ]
        }
      ]
    },
    {
      "cell_type": "code",
      "source": [
        "cd /content/VideoSynopsis-FGS"
      ],
      "metadata": {
        "colab": {
          "base_uri": "https://localhost:8080/"
        },
        "id": "bbSmCCbS3hNa",
        "outputId": "aaa6403f-d0a3-48f1-95e8-fa0fdab9b94d"
      },
      "execution_count": 6,
      "outputs": [
        {
          "output_type": "stream",
          "name": "stdout",
          "text": [
            "/content/VideoSynopsis-FGS\n"
          ]
        }
      ]
    },
    {
      "cell_type": "code",
      "source": [
        "!python3 main.py --InPath Test.mp4 \\\n",
        "                 --IDPath  /content/ \\\n",
        "                 --Model best.pt \\\n",
        "                 --Device '0' \\\n",
        "                 --UseStride True"
      ],
      "metadata": {
        "id": "3dolh3AxzESw"
      },
      "execution_count": null,
      "outputs": []
    }
  ]
}